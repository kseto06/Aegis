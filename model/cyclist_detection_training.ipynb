{
  "cells": [
    {
      "cell_type": "markdown",
      "metadata": {
        "id": "sn0VfNaD1h_p"
      },
      "source": [
        "## Cyclist Detection\n",
        "\n",
        "This notebook will finetune models using Ultralytics YOLOv11 to detect cyclists"
      ]
    },
    {
      "cell_type": "code",
      "execution_count": 1,
      "metadata": {
        "colab": {
          "base_uri": "https://localhost:8080/"
        },
        "id": "SzG2LoC61h_r",
        "outputId": "d831159d-1fd5-43d2-fcdc-375251cee16a"
      },
      "outputs": [
        {
          "output_type": "stream",
          "name": "stderr",
          "text": [
            "<ipython-input-1-7201e04562dd>:14: DeprecationWarning: 'imghdr' is deprecated and slated for removal in Python 3.13\n",
            "  import imghdr\n"
          ]
        },
        {
          "output_type": "stream",
          "name": "stdout",
          "text": [
            "Requirement already satisfied: ultralytics in /usr/local/lib/python3.11/dist-packages (8.3.86)\n",
            "Requirement already satisfied: numpy<=2.1.1,>=1.23.0 in /usr/local/lib/python3.11/dist-packages (from ultralytics) (1.26.4)\n",
            "Requirement already satisfied: matplotlib>=3.3.0 in /usr/local/lib/python3.11/dist-packages (from ultralytics) (3.10.0)\n",
            "Requirement already satisfied: opencv-python>=4.6.0 in /usr/local/lib/python3.11/dist-packages (from ultralytics) (4.11.0.86)\n",
            "Requirement already satisfied: pillow>=7.1.2 in /usr/local/lib/python3.11/dist-packages (from ultralytics) (11.1.0)\n",
            "Requirement already satisfied: pyyaml>=5.3.1 in /usr/local/lib/python3.11/dist-packages (from ultralytics) (6.0.2)\n",
            "Requirement already satisfied: requests>=2.23.0 in /usr/local/lib/python3.11/dist-packages (from ultralytics) (2.32.3)\n",
            "Requirement already satisfied: scipy>=1.4.1 in /usr/local/lib/python3.11/dist-packages (from ultralytics) (1.13.1)\n",
            "Requirement already satisfied: torch>=1.8.0 in /usr/local/lib/python3.11/dist-packages (from ultralytics) (2.5.1+cu124)\n",
            "Requirement already satisfied: torchvision>=0.9.0 in /usr/local/lib/python3.11/dist-packages (from ultralytics) (0.20.1+cu124)\n",
            "Requirement already satisfied: tqdm>=4.64.0 in /usr/local/lib/python3.11/dist-packages (from ultralytics) (4.67.1)\n",
            "Requirement already satisfied: psutil in /usr/local/lib/python3.11/dist-packages (from ultralytics) (5.9.5)\n",
            "Requirement already satisfied: py-cpuinfo in /usr/local/lib/python3.11/dist-packages (from ultralytics) (9.0.0)\n",
            "Requirement already satisfied: pandas>=1.1.4 in /usr/local/lib/python3.11/dist-packages (from ultralytics) (2.2.2)\n",
            "Requirement already satisfied: seaborn>=0.11.0 in /usr/local/lib/python3.11/dist-packages (from ultralytics) (0.13.2)\n",
            "Requirement already satisfied: ultralytics-thop>=2.0.0 in /usr/local/lib/python3.11/dist-packages (from ultralytics) (2.0.14)\n",
            "Requirement already satisfied: contourpy>=1.0.1 in /usr/local/lib/python3.11/dist-packages (from matplotlib>=3.3.0->ultralytics) (1.3.1)\n",
            "Requirement already satisfied: cycler>=0.10 in /usr/local/lib/python3.11/dist-packages (from matplotlib>=3.3.0->ultralytics) (0.12.1)\n",
            "Requirement already satisfied: fonttools>=4.22.0 in /usr/local/lib/python3.11/dist-packages (from matplotlib>=3.3.0->ultralytics) (4.56.0)\n",
            "Requirement already satisfied: kiwisolver>=1.3.1 in /usr/local/lib/python3.11/dist-packages (from matplotlib>=3.3.0->ultralytics) (1.4.8)\n",
            "Requirement already satisfied: packaging>=20.0 in /usr/local/lib/python3.11/dist-packages (from matplotlib>=3.3.0->ultralytics) (24.2)\n",
            "Requirement already satisfied: pyparsing>=2.3.1 in /usr/local/lib/python3.11/dist-packages (from matplotlib>=3.3.0->ultralytics) (3.2.1)\n",
            "Requirement already satisfied: python-dateutil>=2.7 in /usr/local/lib/python3.11/dist-packages (from matplotlib>=3.3.0->ultralytics) (2.8.2)\n",
            "Requirement already satisfied: pytz>=2020.1 in /usr/local/lib/python3.11/dist-packages (from pandas>=1.1.4->ultralytics) (2025.1)\n",
            "Requirement already satisfied: tzdata>=2022.7 in /usr/local/lib/python3.11/dist-packages (from pandas>=1.1.4->ultralytics) (2025.1)\n",
            "Requirement already satisfied: charset-normalizer<4,>=2 in /usr/local/lib/python3.11/dist-packages (from requests>=2.23.0->ultralytics) (3.4.1)\n",
            "Requirement already satisfied: idna<4,>=2.5 in /usr/local/lib/python3.11/dist-packages (from requests>=2.23.0->ultralytics) (3.10)\n",
            "Requirement already satisfied: urllib3<3,>=1.21.1 in /usr/local/lib/python3.11/dist-packages (from requests>=2.23.0->ultralytics) (2.3.0)\n",
            "Requirement already satisfied: certifi>=2017.4.17 in /usr/local/lib/python3.11/dist-packages (from requests>=2.23.0->ultralytics) (2025.1.31)\n",
            "Requirement already satisfied: filelock in /usr/local/lib/python3.11/dist-packages (from torch>=1.8.0->ultralytics) (3.17.0)\n",
            "Requirement already satisfied: typing-extensions>=4.8.0 in /usr/local/lib/python3.11/dist-packages (from torch>=1.8.0->ultralytics) (4.12.2)\n",
            "Requirement already satisfied: networkx in /usr/local/lib/python3.11/dist-packages (from torch>=1.8.0->ultralytics) (3.4.2)\n",
            "Requirement already satisfied: jinja2 in /usr/local/lib/python3.11/dist-packages (from torch>=1.8.0->ultralytics) (3.1.6)\n",
            "Requirement already satisfied: fsspec in /usr/local/lib/python3.11/dist-packages (from torch>=1.8.0->ultralytics) (2024.10.0)\n",
            "Requirement already satisfied: nvidia-cuda-nvrtc-cu12==12.4.127 in /usr/local/lib/python3.11/dist-packages (from torch>=1.8.0->ultralytics) (12.4.127)\n",
            "Requirement already satisfied: nvidia-cuda-runtime-cu12==12.4.127 in /usr/local/lib/python3.11/dist-packages (from torch>=1.8.0->ultralytics) (12.4.127)\n",
            "Requirement already satisfied: nvidia-cuda-cupti-cu12==12.4.127 in /usr/local/lib/python3.11/dist-packages (from torch>=1.8.0->ultralytics) (12.4.127)\n",
            "Requirement already satisfied: nvidia-cudnn-cu12==9.1.0.70 in /usr/local/lib/python3.11/dist-packages (from torch>=1.8.0->ultralytics) (9.1.0.70)\n",
            "Requirement already satisfied: nvidia-cublas-cu12==12.4.5.8 in /usr/local/lib/python3.11/dist-packages (from torch>=1.8.0->ultralytics) (12.4.5.8)\n",
            "Requirement already satisfied: nvidia-cufft-cu12==11.2.1.3 in /usr/local/lib/python3.11/dist-packages (from torch>=1.8.0->ultralytics) (11.2.1.3)\n",
            "Requirement already satisfied: nvidia-curand-cu12==10.3.5.147 in /usr/local/lib/python3.11/dist-packages (from torch>=1.8.0->ultralytics) (10.3.5.147)\n",
            "Requirement already satisfied: nvidia-cusolver-cu12==11.6.1.9 in /usr/local/lib/python3.11/dist-packages (from torch>=1.8.0->ultralytics) (11.6.1.9)\n",
            "Requirement already satisfied: nvidia-cusparse-cu12==12.3.1.170 in /usr/local/lib/python3.11/dist-packages (from torch>=1.8.0->ultralytics) (12.3.1.170)\n",
            "Requirement already satisfied: nvidia-nccl-cu12==2.21.5 in /usr/local/lib/python3.11/dist-packages (from torch>=1.8.0->ultralytics) (2.21.5)\n",
            "Requirement already satisfied: nvidia-nvtx-cu12==12.4.127 in /usr/local/lib/python3.11/dist-packages (from torch>=1.8.0->ultralytics) (12.4.127)\n",
            "Requirement already satisfied: nvidia-nvjitlink-cu12==12.4.127 in /usr/local/lib/python3.11/dist-packages (from torch>=1.8.0->ultralytics) (12.4.127)\n",
            "Requirement already satisfied: triton==3.1.0 in /usr/local/lib/python3.11/dist-packages (from torch>=1.8.0->ultralytics) (3.1.0)\n",
            "Requirement already satisfied: sympy==1.13.1 in /usr/local/lib/python3.11/dist-packages (from torch>=1.8.0->ultralytics) (1.13.1)\n",
            "Requirement already satisfied: mpmath<1.4,>=1.1.0 in /usr/local/lib/python3.11/dist-packages (from sympy==1.13.1->torch>=1.8.0->ultralytics) (1.3.0)\n",
            "Requirement already satisfied: six>=1.5 in /usr/local/lib/python3.11/dist-packages (from python-dateutil>=2.7->matplotlib>=3.3.0->ultralytics) (1.17.0)\n",
            "Requirement already satisfied: MarkupSafe>=2.0 in /usr/local/lib/python3.11/dist-packages (from jinja2->torch>=1.8.0->ultralytics) (3.0.2)\n"
          ]
        }
      ],
      "source": [
        "# Imports\n",
        "import os\n",
        "import random\n",
        "\n",
        "import numpy as np\n",
        "import torch\n",
        "from typing import List, Tuple, Type\n",
        "from torchvision import transforms\n",
        "from torch.utils.data import DataLoader, Dataset, TensorDataset\n",
        "from sklearn.model_selection import train_test_split\n",
        "\n",
        "import colorsys\n",
        "from PIL import Image, ImageFont, ImageDraw\n",
        "import imghdr\n",
        "\n",
        "%pip install ultralytics\n",
        "from ultralytics import YOLO\n",
        "\n",
        "import cv2\n",
        "\n",
        "!pip install -q memory_profiler"
      ]
    },
    {
      "cell_type": "code",
      "source": [
        "# Delete data.zip and /content/data/\n",
        "import shutil, gdown, os\n",
        "if os.path.exists('data'):\n",
        "    shutil.rmtree('data')\n",
        "if os.path.exists('data.zip'):\n",
        "    !rm data.zip\n",
        "\n",
        "# Redownload from Drive\n",
        "data_path = \"data.zip\"\n",
        "print(\"Downloading data.zip...\")\n",
        "url = \"https://drive.google.com/file/d/1h3KDDFFmtW9CJGjK9WYJ9SHO4apSP0QK/view?usp=sharing\"\n",
        "gdown.download(url, output=data_path, fuzzy=True)\n",
        "\n",
        "# Unzip data\n",
        "!unzip -q \"/content/$data_path\""
      ],
      "metadata": {
        "id": "RXDl15Y71937",
        "colab": {
          "base_uri": "https://localhost:8080/"
        },
        "outputId": "81770894-98e6-4322-d515-01952c8d63d3"
      },
      "execution_count": 2,
      "outputs": [
        {
          "output_type": "stream",
          "name": "stdout",
          "text": [
            "Downloading data.zip...\n"
          ]
        },
        {
          "output_type": "stream",
          "name": "stderr",
          "text": [
            "Downloading...\n",
            "From (original): https://drive.google.com/uc?id=1h3KDDFFmtW9CJGjK9WYJ9SHO4apSP0QK\n",
            "From (redirected): https://drive.google.com/uc?id=1h3KDDFFmtW9CJGjK9WYJ9SHO4apSP0QK&confirm=t&uuid=d8e29dd6-9f4b-4997-ad88-b1e37faa5937\n",
            "To: /content/data.zip\n",
            "100%|██████████| 5.70G/5.70G [00:54<00:00, 104MB/s]\n"
          ]
        }
      ]
    },
    {
      "cell_type": "code",
      "source": [
        "# Import model\n",
        "import os\n",
        "from google.colab import drive\n",
        "drive.mount('/content/drive')\n",
        "\n",
        "base_path = \"/content/drive/MyDrive\"\n",
        "folder = \"CyclistDetectionModel/yolo\"\n",
        "file_name = \"yolo11n.pt\"\n",
        "MODEL_PATH = os.path.join(base_path, folder, file_name)\n",
        "YAML_PATH = os.path.join(base_path, folder, \"data.yaml\")\n",
        "print(MODEL_PATH)\n",
        "print(YAML_PATH)"
      ],
      "metadata": {
        "colab": {
          "base_uri": "https://localhost:8080/"
        },
        "id": "L3rbXpjm7_gX",
        "outputId": "f83f28f8-8a46-487b-fe06-b1f864dc0e0a"
      },
      "execution_count": 2,
      "outputs": [
        {
          "output_type": "stream",
          "name": "stdout",
          "text": [
            "Drive already mounted at /content/drive; to attempt to forcibly remount, call drive.mount(\"/content/drive\", force_remount=True).\n",
            "/content/drive/MyDrive/CyclistDetectionModel/yolo/yolo11n.pt\n",
            "/content/drive/MyDrive/CyclistDetectionModel/yolo/data.yaml\n"
          ]
        }
      ]
    },
    {
      "cell_type": "code",
      "source": [
        "%load_ext memory_profiler"
      ],
      "metadata": {
        "id": "9e-iRHoCa5vY"
      },
      "execution_count": 3,
      "outputs": []
    },
    {
      "cell_type": "markdown",
      "metadata": {
        "id": "AeR5mw1b1h_r"
      },
      "source": [
        "### LEGACY: Data Processor"
      ]
    },
    {
      "cell_type": "code",
      "execution_count": 4,
      "metadata": {
        "id": "lCC0geO91h_s"
      },
      "outputs": [],
      "source": [
        "class DataProcessor(Dataset):\n",
        "    def __init__(self, image_dir: str = '/data/images', label_dir: str = '/data/labels'):\n",
        "        self.image_dir = image_dir\n",
        "        self.label_dir = label_dir\n",
        "        self.image_paths = [os.path.join(image_dir, fname) for fname in os.listdir(image_dir) if fname.endswith('.jpg')]\n",
        "        self.label_paths = [os.path.join(label_dir, fname) for fname in os.listdir(label_dir) if fname.endswith('.txt')]\n",
        "\n",
        "        # Transform the images to tensors:\n",
        "        self.transform = transforms.Compose([\n",
        "            transforms.ToTensor(),\n",
        "        ])\n",
        "\n",
        "        self.images = []\n",
        "        self.labels = []\n",
        "\n",
        "        self.images, self.labels = self.load_data()\n",
        "\n",
        "    def __len__(self):\n",
        "        return len(self.image_paths)\n",
        "\n",
        "    def load_data(self) -> Tuple[List[torch.Tensor], List[torch.Tensor]]:\n",
        "        # Iterate over each image and label file\n",
        "        for img_path, label_path in zip(self.image_paths, self.label_paths):\n",
        "\n",
        "            # Loading images\n",
        "            try:\n",
        "                image = self.transform(Image.open(img_path).convert('RGB'))\n",
        "                self.images.append(image)\n",
        "            except Exception as e:\n",
        "                print(f'Error opening image: {img_path}')\n",
        "                continue\n",
        "\n",
        "            # Loading labels/bounding boxes\n",
        "            bounding_boxes = []\n",
        "            try:\n",
        "                with open(label_path, 'r') as f:\n",
        "                    for line in f:\n",
        "                        # Iterate over each line in the label file\n",
        "                        label: list[str] = line.strip().split()\n",
        "                        if len(label) == 5:\n",
        "                            try:\n",
        "                                # Compute each bounding box\n",
        "                                class_id = int(label[0])\n",
        "                                bbox_values = [float(x) for x in label[1:]]\n",
        "                                bounding_box = torch.tensor([class_id+1] + bbox_values, dtype=torch.float32) #class_id = 1 corresponds to cyclist in Ultralytics YOLO\n",
        "                                bounding_boxes.append(bounding_box)\n",
        "                            except ValueError:\n",
        "                                print(f\"invalid value in label line: {line} in {label_path}\")\n",
        "\n",
        "                # Stack the tensors of bounding boxes\n",
        "                if bounding_boxes:\n",
        "                    labels = torch.stack(bounding_boxes)\n",
        "                else:\n",
        "                    labels = torch.empty((0, 5), dtype=torch.float32)\n",
        "            except Exception as e:\n",
        "                print(f'Error opening label: {label_path}')\n",
        "                continue\n",
        "\n",
        "            self.labels.append(labels)\n",
        "\n",
        "        return self.images, self.labels\n",
        "\n",
        "    def __getitem__(self, idx: int) -> Tuple[torch.Tensor, torch.Tensor]:\n",
        "        return self.images[idx], self.labels[idx]\n",
        "\n",
        "    def split_data(self, test_size: float = 0.2, random_state: int = 42):\n",
        "        self.train_images, self.val_images, self.train_labels, self.val_labels = train_test_split(\n",
        "            self.images, self.labels, test_size=test_size, random_state=random_state\n",
        "        )\n",
        "\n",
        "    def get_train_data(self) -> Tuple[List[torch.Tensor], List[torch.Tensor]]:\n",
        "        return self.train_images, self.train_labels\n",
        "\n",
        "    def get_val_data(self) -> Tuple[List[torch.Tensor], List[torch.Tensor]]:\n",
        "        return self.val_images, self.val_labels"
      ]
    },
    {
      "cell_type": "markdown",
      "metadata": {
        "id": "WYBuT_Z_1h_s"
      },
      "source": [
        "### YOLO"
      ]
    },
    {
      "cell_type": "code",
      "execution_count": 5,
      "metadata": {
        "id": "BOsfVPQ91h_s"
      },
      "outputs": [],
      "source": [
        "class YOLO_Detection():\n",
        "    def __init__(self, model_path: str=MODEL_PATH):\n",
        "        self.CLASSES: list[str] = ['person', 'bicycle', 'car', 'motorcycle', 'airplane', 'bus', 'train', 'truck', 'boat', 'traffic light',\n",
        "           'fire hydrant', 'stop sign', 'parking meter', 'bench', 'bird', 'cat', 'dog', 'horse', 'sheep', 'cow',\n",
        "           'elephant', 'bear', 'zebra', 'giraffe', 'backpack', 'umbrella', 'handbag', 'tie', 'suitcase', 'frisbee',\n",
        "           'skis', 'snowboard', 'sports ball', 'kite', 'baseball bat', 'baseball glove', 'skateboard', 'surfboard',\n",
        "           'tennis racket', 'bottle', 'wine glass', 'cup', 'fork', 'knife', 'spoon', 'bowl', 'banana', 'apple',\n",
        "           'sandwich', 'orange', 'broccoli', 'carrot', 'hot dog', 'pizza', 'donut', 'cake', 'chair', 'couch',\n",
        "           'potted plant', 'bed', 'dining table', 'toilet', 'tv', 'laptop', 'mouse', 'remote', 'keyboard', 'cell phone',\n",
        "           'microwave', 'oven', 'toaster', 'sink', 'refrigerator', 'book', 'clock', 'vase', 'scissors', 'teddy bear',\n",
        "           'hair drier', 'toothbrush']\n",
        "\n",
        "        self.model = YOLO(model_path)\n",
        "\n",
        "    def filter_boxes(self, box_confidence: torch.Tensor, boxes: torch.Tensor, box_class_probs: torch.Tensor, threshold: float = .6) -> Tuple[torch.Tensor, torch.Tensor, torch.Tensor]:\n",
        "        '''\n",
        "        This function filters boxes using confidence and class probabilities and seeing if they lie above the certain threshold.\n",
        "        '''\n",
        "\n",
        "        # Compute the score of a box as the confidence that there's some object * the probability of it being in a certain class\n",
        "        box_scores = box_confidence * box_class_probs\n",
        "\n",
        "        box_classes = torch.argmax(box_scores, dim=-1)\n",
        "        box_class_scores, _ = torch.max(box_scores, dim=-1, keepdim=False)\n",
        "        filtering_mask = (box_class_scores >= threshold) # Only filter & keep boxes above the threshold\n",
        "\n",
        "        # Convert scores to boolean values using the filtering mask\n",
        "        scores = torch.masked_select(box_class_scores[filtering_mask])\n",
        "        boxes = torch.masked_select(boxes[filtering_mask])\n",
        "        classes = torch.masked_select(box_classes[filtering_mask])\n",
        "\n",
        "        return scores, boxes, classes\n",
        "\n",
        "    def iou(self, box1: Tuple[float, float, float, float], box2: Tuple[float, float, float, float]) -> float:\n",
        "        '''\n",
        "        Design IOU for non-max suppression (NMS) -- we want to use NMS to only select the most accurate (highest probability of the 3 boxes)\n",
        "        '''\n",
        "        (box1_x1, box1_y1, box1_x2, box1_y2) = box1\n",
        "        (box2_x1, box2_y1, box2_x2, box2_y2) = box2\n",
        "\n",
        "        # Compute intersections\n",
        "        xi1 = np.maximum(box1[0], box2[0])\n",
        "        yi1 = np.maximum(box1[1], box2[1])\n",
        "        xi2 = np.minimum(box1[2], box2[2])\n",
        "        yi2 = np.minimum(box1[3], box2[3])\n",
        "        intersection_width = xi2 - xi1\n",
        "        intersection_height = yi2 - yi1\n",
        "        intersection_area = max(intersection_width, 0) * max(intersection_height, 0) #Case where areas do not intersect\n",
        "\n",
        "        # Compute Union Area and return the iou\n",
        "        box1_area = (box1[2] - box1[0]) * (box1[3] - box1[1])\n",
        "        box2_area = (box2[2] - box2[0]) * (box2[3] - box2[1])\n",
        "        union_area = box1_area + box2_area - intersection_area\n",
        "\n",
        "        return float(intersection_area) / float(union_area)\n",
        "\n",
        "    def non_max_suppression(self, scores: torch.Tensor, boxes: torch.Tensor, classes: torch.Tensor, max_boxes: int = 10, iou_threshold: float = 0.5) -> Tuple[torch.tensor, torch.tensor, torch.tensor]:\n",
        "        '''\n",
        "        Non-max suppression: Select the highest-score box, overlap the box and remove boxes that overlap significantly\n",
        "        '''\n",
        "        nms_detections: list = torch.ops.torchvision.nms(boxes, scores, iou_threshold)\n",
        "        nms_detections = nms_detections[:max_boxes]\n",
        "\n",
        "        return scores[nms_detections], boxes[nms_detections], classes[nms_detections]\n",
        "\n",
        "    def train(self, resume: bool):\n",
        "        '''\n",
        "        Finetune the pre-trained model using .yaml file\n",
        "        '''\n",
        "        device = torch.device('cuda' if torch.cuda.is_available() else 0) # 0 for GPU\n",
        "\n",
        "        if not resume:\n",
        "          self.model.train(data=YAML_PATH, epochs=55, imgsz=640, batch=-1, device=device, patience=5) #Epochs, img_size, batch_size (-1 to find optimal), early_stopping\n",
        "        else:\n",
        "          self.model.train(resume=resume)\n",
        "        self.model.export(format=\"onnx\")"
      ]
    },
    {
      "cell_type": "markdown",
      "metadata": {
        "id": "3OT5B5uU1h_s"
      },
      "source": [
        "### LEGACY: Inference\n",
        "\n",
        "Refer to Python `cyclist-cv.py` file for live inference updated code"
      ]
    },
    {
      "cell_type": "code",
      "execution_count": 6,
      "metadata": {
        "id": "ysVm8Oml1h_s"
      },
      "outputs": [],
      "source": [
        "class Inference():\n",
        "    # Pass in a yolo class and model path\n",
        "    def __init__(self, yolo: Type[object], model_path: str = 'yolo/yolo11n.onnx'):\n",
        "        self.model = YOLO(model_path)\n",
        "        self.CLASSES = yolo.CLASSES\n",
        "        self.device = torch.device('cuda' if torch.cuda.is_available() else 'cpu')\n",
        "\n",
        "    def predict(self, video_src=0, score_threshold=0.6, iou_threshold=0.5, max_boxes=10, use_webcam=False):\n",
        "        camera = cv2.VideoCapture(video_src)\n",
        "        if not camera.isOpened():\n",
        "            raise Exception(\"Could not open video device\")\n",
        "\n",
        "        if use_webcam:\n",
        "            capture = cv2.VideoCapture(f'http://192.168.205.149:8080/video') #IP when connected to hotspot data\n",
        "        else:\n",
        "            capture = cv2.VideoCapture(0)\n",
        "\n",
        "        while True:\n",
        "            ret, frame = capture.read()\n",
        "            if not ret:\n",
        "                break\n",
        "\n",
        "            # Run model prediction\n",
        "            prediction = self.model(frame)\n",
        "\n",
        "            # Evaluate the predictions\n",
        "            scores, boxes, classes = self.evaluate(prediction, img_shape=(frame.shape[0], frame.shape[1]), max_boxes=max_boxes, score_threshold=score_threshold, iou_threshold=iou_threshold)\n",
        "\n",
        "            # Draw the bounding boxes\n",
        "            self.draw_boxes(frame, scores, boxes, classes, self.CLASSES, self.generate_colors(self.CLASSES))\n",
        "            cv2.imshow(\"Cyclist Detection\", frame)\n",
        "\n",
        "            if (cv2.waitKey(1) & 0xFF == ord('q')):\n",
        "                break\n",
        "\n",
        "        capture.release()\n",
        "        cv2.destroyAllWindows()\n",
        "\n",
        "    # Evaluation functions\n",
        "    def evaluate(self, model_output: Tuple[Tuple[torch.tensor, torch.tensor, torch.tensor, torch.tensor]], img_shape = (720., 1280.), max_boxes=10, score_threshold = 0.6, iou_threshold = 0.5) -> tuple[torch.Tensor, torch.Tensor, torch.Tensor]:\n",
        "        # Unpack outputs of the model\n",
        "        box_confidence, boxes, box_class_probs, classes = model_output\n",
        "\n",
        "        # Convert the boxes to the corners\n",
        "        boxes = self.boxes_to_corners(boxes)\n",
        "\n",
        "        # Filter the boxes\n",
        "        scores, boxes, classes = self.filter_boxes(box_confidence, boxes, box_class_probs, threshold=score_threshold)\n",
        "\n",
        "        # Scale boxes to the original image shape\n",
        "        boxes = self.scale_boxes(boxes, img_shape)\n",
        "\n",
        "        # Perform and return non-max suppression\n",
        "        return self.non_max_suppression(scores, boxes, classes, max_boxes, iou_threshold)\n",
        "\n",
        "    def boxes_to_corners(boxes: torch.Tensor) -> torch.Tensor:\n",
        "        '''\n",
        "        Helper function to convert YOLO boxes to bounding box corners\n",
        "        '''\n",
        "        x_center, y_center, width, height = boxes[:, 0], boxes[:, 1], boxes[:, 2], boxes[:, 3]\n",
        "        x_min = x_center - (width / 2)\n",
        "        y_min = y_center - (height / 2)\n",
        "        x_max = x_center + (width / 2)\n",
        "        y_max = y_center + (height / 2)\n",
        "\n",
        "        return torch.stack([x_min, y_min, x_max, y_max], dim=1)\n",
        "\n",
        "    '''\n",
        "    Helper functions for YOLO inference, drawing on webcam:\n",
        "    '''\n",
        "    def generate_colors(class_names):\n",
        "        '''\n",
        "        Generates random HSV --> RGB colors for each class\n",
        "        '''\n",
        "        hsv_tuples = [(x / len(class_names), 1., 1.) for x in range(len(class_names))]\n",
        "        colors = list(map(lambda x: colorsys.hsv_to_rgb(*x), hsv_tuples))\n",
        "        colors = list(map(lambda x: (int(x[0] * 255), int(x[1] * 255), int(x[2] * 255)), colors))\n",
        "        random.seed(10101)  # Fixed seed for consistent colors across runs.\n",
        "        random.shuffle(colors)  # Shuffle colors to decorrelate adjacent classes.\n",
        "        random.seed(None)  # Reset seed to default.\n",
        "        return colors\n",
        "\n",
        "    def scale_boxes(boxes, image_shape):\n",
        "        \"\"\"\n",
        "        Scales the predicted boxes in order to be drawable on the image\n",
        "        \"\"\"\n",
        "        height = image_shape[0]\n",
        "        width = image_shape[1]\n",
        "        image_dims = torch.tensor([height, width, height, width])\n",
        "        image_dims = torch.reshape(image_dims, [1, 4])\n",
        "        boxes = boxes * image_dims\n",
        "        return boxes\n",
        "\n",
        "    def preprocess_frame(frame, model_image_size):\n",
        "        '''\n",
        "        Preprocess frame into data that can be inputted into the model\n",
        "        '''\n",
        "        image = Image.fromarray(cv2.cvtColor(frame, cv2.COLOR_BGR2RGB))\n",
        "        resized_image = image.resize(tuple(reversed(model_image_size)), Image.BICUBIC)\n",
        "        image_data = np.array(resized_image, dtype='float32')\n",
        "        image_data /= 255.\n",
        "        image_data = np.expand_dims(image_data, 0)  # Add batch dimension.\n",
        "        return image_data\n",
        "\n",
        "    def draw_boxes(frame, out_scores, out_boxes, out_classes, class_names, colors):\n",
        "        '''\n",
        "        This function draws the bounding box with class labels/scores over the frame.\n",
        "        '''\n",
        "        thickness = (frame.shape[0] + frame.shape[1]) // 300\n",
        "\n",
        "        for i, c in reversed(list(enumerate(out_classes))):\n",
        "            predicted_class = class_names[c]\n",
        "            box = out_boxes[i]\n",
        "            score = out_scores[i]\n",
        "\n",
        "            label = '{} {:.2f}'.format(predicted_class, score)\n",
        "\n",
        "            top, left, bottom, right = box\n",
        "            top = max(0, np.floor(top + 0.5).astype('int32'))\n",
        "            left = max(0, np.floor(left + 0.5).astype('int32'))\n",
        "            bottom = min(frame.shape[0], np.floor(bottom + 0.5).astype('int32'))\n",
        "            right = min(frame.shape[1], np.floor(right + 0.5).astype('int32'))\n",
        "            print(label, (left, top), (right, bottom))\n",
        "\n",
        "            # Draw bounding box\n",
        "            cv2.rectangle(frame, (left, top), (right, bottom), colors[c], thickness)\n",
        "\n",
        "            # Draw label\n",
        "            label_size, _ = cv2.getTextSize(label, cv2.FONT_HERSHEY_SIMPLEX, 0.5, 1)\n",
        "            label_top = max(top, label_size[1])\n",
        "            cv2.rectangle(frame, (left, label_top - label_size[1]), (left + label_size[0], label_top + 5), colors[c], cv2.FILLED)\n",
        "            cv2.putText(frame, label, (left, label_top), cv2.FONT_HERSHEY_SIMPLEX, 0.5, (0, 0, 0), 1)\n",
        "\n",
        "        return frame\n"
      ]
    },
    {
      "cell_type": "code",
      "execution_count": null,
      "metadata": {
        "colab": {
          "base_uri": "https://localhost:8080/"
        },
        "id": "LGq3ZSlT1h_t",
        "outputId": "456e34f9-c4f3-44d5-f8b1-a10de3705d1a"
      },
      "outputs": [
        {
          "output_type": "stream",
          "name": "stdout",
          "text": [
            "\u001b[34m\u001b[1mengine/trainer: \u001b[0mtask=detect, mode=train, model=/content/drive/MyDrive/CyclistDetectionModel/yolo/yolo11n.pt, data=/content/drive/MyDrive/CyclistDetectionModel/yolo/data.yaml, epochs=55, time=None, patience=5, batch=-1, imgsz=640, save=True, save_period=-1, cache=False, device=cuda, workers=8, project=None, name=train5, exist_ok=False, pretrained=True, optimizer=auto, verbose=True, seed=0, deterministic=True, single_cls=False, rect=False, cos_lr=False, close_mosaic=10, resume=False, amp=True, fraction=1.0, profile=False, freeze=None, multi_scale=False, overlap_mask=True, mask_ratio=4, dropout=0.0, val=True, split=val, save_json=False, save_hybrid=False, conf=None, iou=0.7, max_det=300, half=False, dnn=False, plots=True, source=None, vid_stride=1, stream_buffer=False, visualize=False, augment=False, agnostic_nms=False, classes=None, retina_masks=False, embed=None, show=False, save_frames=False, save_txt=False, save_conf=False, save_crop=False, show_labels=True, show_conf=True, show_boxes=True, line_width=None, format=torchscript, keras=False, optimize=False, int8=False, dynamic=False, simplify=True, opset=None, workspace=None, nms=False, lr0=0.01, lrf=0.01, momentum=0.937, weight_decay=0.0005, warmup_epochs=3.0, warmup_momentum=0.8, warmup_bias_lr=0.1, box=7.5, cls=0.5, dfl=1.5, pose=12.0, kobj=1.0, nbs=64, hsv_h=0.015, hsv_s=0.7, hsv_v=0.4, degrees=0.0, translate=0.1, scale=0.5, shear=0.0, perspective=0.0, flipud=0.0, fliplr=0.5, bgr=0.0, mosaic=1.0, mixup=0.0, copy_paste=0.0, copy_paste_mode=flip, auto_augment=randaugment, erasing=0.4, crop_fraction=1.0, cfg=None, tracker=botsort.yaml, save_dir=runs/detect/train5\n",
            "Overriding model.yaml nc=80 with nc=1\n",
            "\n",
            "                   from  n    params  module                                       arguments                     \n",
            "  0                  -1  1       464  ultralytics.nn.modules.conv.Conv             [3, 16, 3, 2]                 \n",
            "  1                  -1  1      4672  ultralytics.nn.modules.conv.Conv             [16, 32, 3, 2]                \n",
            "  2                  -1  1      6640  ultralytics.nn.modules.block.C3k2            [32, 64, 1, False, 0.25]      \n",
            "  3                  -1  1     36992  ultralytics.nn.modules.conv.Conv             [64, 64, 3, 2]                \n",
            "  4                  -1  1     26080  ultralytics.nn.modules.block.C3k2            [64, 128, 1, False, 0.25]     \n",
            "  5                  -1  1    147712  ultralytics.nn.modules.conv.Conv             [128, 128, 3, 2]              \n",
            "  6                  -1  1     87040  ultralytics.nn.modules.block.C3k2            [128, 128, 1, True]           \n",
            "  7                  -1  1    295424  ultralytics.nn.modules.conv.Conv             [128, 256, 3, 2]              \n",
            "  8                  -1  1    346112  ultralytics.nn.modules.block.C3k2            [256, 256, 1, True]           \n",
            "  9                  -1  1    164608  ultralytics.nn.modules.block.SPPF            [256, 256, 5]                 \n",
            " 10                  -1  1    249728  ultralytics.nn.modules.block.C2PSA           [256, 256, 1]                 \n",
            " 11                  -1  1         0  torch.nn.modules.upsampling.Upsample         [None, 2, 'nearest']          \n",
            " 12             [-1, 6]  1         0  ultralytics.nn.modules.conv.Concat           [1]                           \n",
            " 13                  -1  1    111296  ultralytics.nn.modules.block.C3k2            [384, 128, 1, False]          \n",
            " 14                  -1  1         0  torch.nn.modules.upsampling.Upsample         [None, 2, 'nearest']          \n",
            " 15             [-1, 4]  1         0  ultralytics.nn.modules.conv.Concat           [1]                           \n",
            " 16                  -1  1     32096  ultralytics.nn.modules.block.C3k2            [256, 64, 1, False]           \n",
            " 17                  -1  1     36992  ultralytics.nn.modules.conv.Conv             [64, 64, 3, 2]                \n",
            " 18            [-1, 13]  1         0  ultralytics.nn.modules.conv.Concat           [1]                           \n",
            " 19                  -1  1     86720  ultralytics.nn.modules.block.C3k2            [192, 128, 1, False]          \n",
            " 20                  -1  1    147712  ultralytics.nn.modules.conv.Conv             [128, 128, 3, 2]              \n",
            " 21            [-1, 10]  1         0  ultralytics.nn.modules.conv.Concat           [1]                           \n",
            " 22                  -1  1    378880  ultralytics.nn.modules.block.C3k2            [384, 256, 1, True]           \n",
            " 23        [16, 19, 22]  1    430867  ultralytics.nn.modules.head.Detect           [1, [64, 128, 256]]           \n",
            "YOLO11n summary: 181 layers, 2,590,035 parameters, 2,590,019 gradients, 6.4 GFLOPs\n",
            "\n",
            "Transferred 448/499 items from pretrained weights\n",
            "\u001b[34m\u001b[1mTensorBoard: \u001b[0mStart with 'tensorboard --logdir runs/detect/train5', view at http://localhost:6006/\n",
            "Freezing layer 'model.23.dfl.conv.weight'\n",
            "\u001b[34m\u001b[1mAMP: \u001b[0mrunning Automatic Mixed Precision (AMP) checks...\n",
            "\u001b[34m\u001b[1mAMP: \u001b[0mchecks passed ✅\n"
          ]
        },
        {
          "output_type": "stream",
          "name": "stderr",
          "text": [
            "\u001b[34m\u001b[1mtrain: \u001b[0mScanning /content/data/train/labels... 18036 images, 3587 backgrounds, 0 corrupt: 100%|██████████| 18036/18036 [00:34<00:00, 518.37it/s]\n"
          ]
        },
        {
          "output_type": "stream",
          "name": "stdout",
          "text": [
            "\u001b[34m\u001b[1mtrain: \u001b[0mNew cache created: /content/data/train/labels.cache\n",
            "\u001b[34m\u001b[1malbumentations: \u001b[0mBlur(p=0.01, blur_limit=(3, 7)), MedianBlur(p=0.01, blur_limit=(3, 7)), ToGray(p=0.01, num_output_channels=3, method='weighted_average'), CLAHE(p=0.01, clip_limit=(1.0, 4.0), tile_grid_size=(8, 8))\n",
            "\u001b[34m\u001b[1mAutoBatch: \u001b[0mComputing optimal batch size for imgsz=640 at 60.0% CUDA memory utilization.\n",
            "\u001b[34m\u001b[1mAutoBatch: \u001b[0mCUDA:0 (Tesla T4) 14.74G total, 0.10G reserved, 0.06G allocated, 14.58G free\n",
            "      Params      GFLOPs  GPU_mem (GB)  forward (ms) backward (ms)                   input                  output\n",
            "     2590035       6.441         0.461         96.76         657.7        (1, 3, 640, 640)                    list\n",
            "     2590035       12.88         0.610          42.3         166.9        (2, 3, 640, 640)                    list\n",
            "     2590035       25.76         0.904         38.75         104.4        (4, 3, 640, 640)                    list\n",
            "     2590035       51.52         1.529         32.99         114.3        (8, 3, 640, 640)                    list\n",
            "     2590035         103         2.756         47.18           114       (16, 3, 640, 640)                    list\n",
            "\u001b[34m\u001b[1mAutoBatch: \u001b[0mUsing batch-size 111 for CUDA:0 8.90G/14.74G (60%) ✅\n"
          ]
        },
        {
          "output_type": "stream",
          "name": "stderr",
          "text": [
            "\u001b[34m\u001b[1mtrain: \u001b[0mScanning /content/data/train/labels.cache... 18036 images, 3587 backgrounds, 0 corrupt: 100%|██████████| 18036/18036 [00:00<?, ?it/s]"
          ]
        },
        {
          "output_type": "stream",
          "name": "stdout",
          "text": [
            "\u001b[34m\u001b[1malbumentations: \u001b[0mBlur(p=0.01, blur_limit=(3, 7)), MedianBlur(p=0.01, blur_limit=(3, 7)), ToGray(p=0.01, num_output_channels=3, method='weighted_average'), CLAHE(p=0.01, clip_limit=(1.0, 4.0), tile_grid_size=(8, 8))\n"
          ]
        },
        {
          "output_type": "stream",
          "name": "stderr",
          "text": [
            "\n",
            "\u001b[34m\u001b[1mval: \u001b[0mScanning /content/data/test/labels... 318 images, 63 backgrounds, 0 corrupt: 100%|██████████| 318/318 [00:00<00:00, 321.08it/s]"
          ]
        },
        {
          "output_type": "stream",
          "name": "stdout",
          "text": [
            "\u001b[34m\u001b[1mval: \u001b[0mNew cache created: /content/data/test/labels.cache\n"
          ]
        },
        {
          "output_type": "stream",
          "name": "stderr",
          "text": [
            "\n"
          ]
        },
        {
          "output_type": "stream",
          "name": "stdout",
          "text": [
            "Plotting labels to runs/detect/train5/labels.jpg... \n",
            "\u001b[34m\u001b[1moptimizer:\u001b[0m 'optimizer=auto' found, ignoring 'lr0=0.01' and 'momentum=0.937' and determining best 'optimizer', 'lr0' and 'momentum' automatically... \n",
            "\u001b[34m\u001b[1moptimizer:\u001b[0m AdamW(lr=0.002, momentum=0.9) with parameter groups 81 weight(decay=0.0), 88 weight(decay=0.0008671875), 87 bias(decay=0.0)\n",
            "\u001b[34m\u001b[1mTensorBoard: \u001b[0mmodel graph visualization added ✅\n",
            "Image sizes 640 train, 640 val\n",
            "Using 2 dataloader workers\n",
            "Logging results to \u001b[1mruns/detect/train5\u001b[0m\n",
            "Starting training for 55 epochs...\n",
            "\n",
            "      Epoch    GPU_mem   box_loss   cls_loss   dfl_loss  Instances       Size\n"
          ]
        },
        {
          "output_type": "stream",
          "name": "stderr",
          "text": [
            "       1/55      14.2G      1.378      1.689      1.142        170        640: 100%|██████████| 163/163 [07:37<00:00,  2.81s/it]\n",
            "                 Class     Images  Instances      Box(P          R      mAP50  mAP50-95): 100%|██████████| 2/2 [00:08<00:00,  4.02s/it]\n"
          ]
        },
        {
          "output_type": "stream",
          "name": "stdout",
          "text": [
            "                   all        318        481      0.875      0.831      0.893      0.502\n",
            "\n",
            "      Epoch    GPU_mem   box_loss   cls_loss   dfl_loss  Instances       Size\n"
          ]
        },
        {
          "output_type": "stream",
          "name": "stderr",
          "text": [
            "       2/55      14.1G       1.38      1.094      1.164        122        640: 100%|██████████| 163/163 [07:34<00:00,  2.79s/it]\n",
            "                 Class     Images  Instances      Box(P          R      mAP50  mAP50-95): 100%|██████████| 2/2 [00:03<00:00,  1.56s/it]"
          ]
        },
        {
          "output_type": "stream",
          "name": "stdout",
          "text": [
            "                   all        318        481      0.837      0.686      0.783      0.355\n"
          ]
        },
        {
          "output_type": "stream",
          "name": "stderr",
          "text": [
            "\n"
          ]
        },
        {
          "output_type": "stream",
          "name": "stdout",
          "text": [
            "\n",
            "      Epoch    GPU_mem   box_loss   cls_loss   dfl_loss  Instances       Size\n"
          ]
        },
        {
          "output_type": "stream",
          "name": "stderr",
          "text": [
            "       3/55      13.9G      1.395     0.9759      1.186        132        640: 100%|██████████| 163/163 [07:29<00:00,  2.76s/it]\n",
            "                 Class     Images  Instances      Box(P          R      mAP50  mAP50-95): 100%|██████████| 2/2 [00:04<00:00,  2.11s/it]"
          ]
        },
        {
          "output_type": "stream",
          "name": "stdout",
          "text": [
            "                   all        318        481      0.771      0.609      0.692      0.377\n"
          ]
        },
        {
          "output_type": "stream",
          "name": "stderr",
          "text": [
            "\n"
          ]
        },
        {
          "output_type": "stream",
          "name": "stdout",
          "text": [
            "\n",
            "      Epoch    GPU_mem   box_loss   cls_loss   dfl_loss  Instances       Size\n"
          ]
        },
        {
          "output_type": "stream",
          "name": "stderr",
          "text": [
            "       4/55      14.2G       1.38     0.9156      1.181        151        640: 100%|██████████| 163/163 [07:29<00:00,  2.76s/it]\n",
            "                 Class     Images  Instances      Box(P          R      mAP50  mAP50-95): 100%|██████████| 2/2 [00:02<00:00,  1.33s/it]"
          ]
        },
        {
          "output_type": "stream",
          "name": "stdout",
          "text": [
            "                   all        318        481      0.881      0.849       0.92      0.533\n"
          ]
        },
        {
          "output_type": "stream",
          "name": "stderr",
          "text": [
            "\n"
          ]
        },
        {
          "output_type": "stream",
          "name": "stdout",
          "text": [
            "\n",
            "      Epoch    GPU_mem   box_loss   cls_loss   dfl_loss  Instances       Size\n"
          ]
        },
        {
          "output_type": "stream",
          "name": "stderr",
          "text": [
            "       5/55        14G      1.344     0.8612       1.17        175        640: 100%|██████████| 163/163 [07:33<00:00,  2.78s/it]\n",
            "                 Class     Images  Instances      Box(P          R      mAP50  mAP50-95): 100%|██████████| 2/2 [00:03<00:00,  1.98s/it]"
          ]
        },
        {
          "output_type": "stream",
          "name": "stdout",
          "text": [
            "                   all        318        481      0.895      0.807      0.906      0.521\n"
          ]
        },
        {
          "output_type": "stream",
          "name": "stderr",
          "text": [
            "\n"
          ]
        },
        {
          "output_type": "stream",
          "name": "stdout",
          "text": [
            "\n",
            "      Epoch    GPU_mem   box_loss   cls_loss   dfl_loss  Instances       Size\n"
          ]
        },
        {
          "output_type": "stream",
          "name": "stderr",
          "text": [
            "       6/55      14.2G      1.317     0.8224      1.159        155        640: 100%|██████████| 163/163 [07:30<00:00,  2.76s/it]\n",
            "                 Class     Images  Instances      Box(P          R      mAP50  mAP50-95): 100%|██████████| 2/2 [00:02<00:00,  1.39s/it]"
          ]
        },
        {
          "output_type": "stream",
          "name": "stdout",
          "text": [
            "                   all        318        481       0.91      0.859      0.923      0.538\n"
          ]
        },
        {
          "output_type": "stream",
          "name": "stderr",
          "text": [
            "\n"
          ]
        },
        {
          "output_type": "stream",
          "name": "stdout",
          "text": [
            "\n",
            "      Epoch    GPU_mem   box_loss   cls_loss   dfl_loss  Instances       Size\n"
          ]
        },
        {
          "output_type": "stream",
          "name": "stderr",
          "text": [
            "       7/55      14.1G      1.302     0.7968      1.151        150        640: 100%|██████████| 163/163 [07:33<00:00,  2.78s/it]\n",
            "                 Class     Images  Instances      Box(P          R      mAP50  mAP50-95): 100%|██████████| 2/2 [00:03<00:00,  1.97s/it]"
          ]
        },
        {
          "output_type": "stream",
          "name": "stdout",
          "text": [
            "                   all        318        481      0.901      0.846      0.934      0.552\n"
          ]
        },
        {
          "output_type": "stream",
          "name": "stderr",
          "text": [
            "\n"
          ]
        },
        {
          "output_type": "stream",
          "name": "stdout",
          "text": [
            "\n",
            "      Epoch    GPU_mem   box_loss   cls_loss   dfl_loss  Instances       Size\n"
          ]
        },
        {
          "output_type": "stream",
          "name": "stderr",
          "text": [
            "       8/55      14.2G      1.281     0.7751       1.14        176        640: 100%|██████████| 163/163 [07:36<00:00,  2.80s/it]\n",
            "                 Class     Images  Instances      Box(P          R      mAP50  mAP50-95): 100%|██████████| 2/2 [00:04<00:00,  2.13s/it]"
          ]
        },
        {
          "output_type": "stream",
          "name": "stdout",
          "text": [
            "                   all        318        481      0.912      0.879      0.948      0.563\n"
          ]
        },
        {
          "output_type": "stream",
          "name": "stderr",
          "text": [
            "\n"
          ]
        },
        {
          "output_type": "stream",
          "name": "stdout",
          "text": [
            "\n",
            "      Epoch    GPU_mem   box_loss   cls_loss   dfl_loss  Instances       Size\n"
          ]
        },
        {
          "output_type": "stream",
          "name": "stderr",
          "text": [
            "       9/55      14.2G      1.269     0.7606      1.134        151        640: 100%|██████████| 163/163 [07:36<00:00,  2.80s/it]\n",
            "                 Class     Images  Instances      Box(P          R      mAP50  mAP50-95): 100%|██████████| 2/2 [00:02<00:00,  1.45s/it]"
          ]
        },
        {
          "output_type": "stream",
          "name": "stdout",
          "text": [
            "                   all        318        481      0.932      0.916      0.958      0.578\n"
          ]
        },
        {
          "output_type": "stream",
          "name": "stderr",
          "text": [
            "\n"
          ]
        },
        {
          "output_type": "stream",
          "name": "stdout",
          "text": [
            "\n",
            "      Epoch    GPU_mem   box_loss   cls_loss   dfl_loss  Instances       Size\n"
          ]
        },
        {
          "output_type": "stream",
          "name": "stderr",
          "text": [
            "      10/55      14.1G      1.257     0.7388      1.127        168        640: 100%|██████████| 163/163 [07:32<00:00,  2.77s/it]\n",
            "                 Class     Images  Instances      Box(P          R      mAP50  mAP50-95): 100%|██████████| 2/2 [00:03<00:00,  1.80s/it]"
          ]
        },
        {
          "output_type": "stream",
          "name": "stdout",
          "text": [
            "                   all        318        481      0.921      0.874      0.942      0.562\n"
          ]
        },
        {
          "output_type": "stream",
          "name": "stderr",
          "text": [
            "\n"
          ]
        },
        {
          "output_type": "stream",
          "name": "stdout",
          "text": [
            "\n",
            "      Epoch    GPU_mem   box_loss   cls_loss   dfl_loss  Instances       Size\n"
          ]
        },
        {
          "output_type": "stream",
          "name": "stderr",
          "text": [
            "      11/55      14.2G      1.247     0.7331      1.122        155        640: 100%|██████████| 163/163 [07:31<00:00,  2.77s/it]\n",
            "                 Class     Images  Instances      Box(P          R      mAP50  mAP50-95): 100%|██████████| 2/2 [00:03<00:00,  1.59s/it]"
          ]
        },
        {
          "output_type": "stream",
          "name": "stdout",
          "text": [
            "                   all        318        481      0.935      0.894      0.959      0.572\n"
          ]
        },
        {
          "output_type": "stream",
          "name": "stderr",
          "text": [
            "\n"
          ]
        },
        {
          "output_type": "stream",
          "name": "stdout",
          "text": [
            "\n",
            "      Epoch    GPU_mem   box_loss   cls_loss   dfl_loss  Instances       Size\n"
          ]
        },
        {
          "output_type": "stream",
          "name": "stderr",
          "text": [
            "      12/55        14G      1.232     0.7193      1.113        134        640: 100%|██████████| 163/163 [07:35<00:00,  2.80s/it]\n",
            "                 Class     Images  Instances      Box(P          R      mAP50  mAP50-95): 100%|██████████| 2/2 [00:02<00:00,  1.44s/it]"
          ]
        },
        {
          "output_type": "stream",
          "name": "stdout",
          "text": [
            "                   all        318        481      0.945      0.917      0.965       0.58\n"
          ]
        },
        {
          "output_type": "stream",
          "name": "stderr",
          "text": [
            "\n"
          ]
        },
        {
          "output_type": "stream",
          "name": "stdout",
          "text": [
            "\n",
            "      Epoch    GPU_mem   box_loss   cls_loss   dfl_loss  Instances       Size\n"
          ]
        },
        {
          "output_type": "stream",
          "name": "stderr",
          "text": [
            "      13/55        14G      1.231     0.7106      1.113        124        640: 100%|██████████| 163/163 [07:34<00:00,  2.79s/it]\n",
            "                 Class     Images  Instances      Box(P          R      mAP50  mAP50-95): 100%|██████████| 2/2 [00:02<00:00,  1.42s/it]"
          ]
        },
        {
          "output_type": "stream",
          "name": "stdout",
          "text": [
            "                   all        318        481      0.945      0.852       0.94       0.57\n"
          ]
        },
        {
          "output_type": "stream",
          "name": "stderr",
          "text": [
            "\n"
          ]
        },
        {
          "output_type": "stream",
          "name": "stdout",
          "text": [
            "\n",
            "      Epoch    GPU_mem   box_loss   cls_loss   dfl_loss  Instances       Size\n"
          ]
        },
        {
          "output_type": "stream",
          "name": "stderr",
          "text": [
            "      14/55      13.9G      1.219     0.7011      1.112        171        640: 100%|██████████| 163/163 [07:33<00:00,  2.78s/it]\n",
            "                 Class     Images  Instances      Box(P          R      mAP50  mAP50-95): 100%|██████████| 2/2 [00:04<00:00,  2.35s/it]"
          ]
        },
        {
          "output_type": "stream",
          "name": "stdout",
          "text": [
            "                   all        318        481      0.961        0.9      0.958      0.582\n"
          ]
        },
        {
          "output_type": "stream",
          "name": "stderr",
          "text": [
            "\n"
          ]
        },
        {
          "output_type": "stream",
          "name": "stdout",
          "text": [
            "\n",
            "      Epoch    GPU_mem   box_loss   cls_loss   dfl_loss  Instances       Size\n"
          ]
        },
        {
          "output_type": "stream",
          "name": "stderr",
          "text": [
            "      15/55        14G      1.215     0.6886      1.104        144        640: 100%|██████████| 163/163 [07:36<00:00,  2.80s/it]\n",
            "                 Class     Images  Instances      Box(P          R      mAP50  mAP50-95): 100%|██████████| 2/2 [00:02<00:00,  1.41s/it]"
          ]
        },
        {
          "output_type": "stream",
          "name": "stdout",
          "text": [
            "                   all        318        481      0.945      0.895      0.963       0.57\n"
          ]
        },
        {
          "output_type": "stream",
          "name": "stderr",
          "text": [
            "\n"
          ]
        },
        {
          "output_type": "stream",
          "name": "stdout",
          "text": [
            "\n",
            "      Epoch    GPU_mem   box_loss   cls_loss   dfl_loss  Instances       Size\n"
          ]
        },
        {
          "output_type": "stream",
          "name": "stderr",
          "text": [
            "      16/55      14.1G      1.204     0.6851      1.098        166        640: 100%|██████████| 163/163 [07:37<00:00,  2.81s/it]\n",
            "                 Class     Images  Instances      Box(P          R      mAP50  mAP50-95): 100%|██████████| 2/2 [00:02<00:00,  1.42s/it]"
          ]
        },
        {
          "output_type": "stream",
          "name": "stdout",
          "text": [
            "                   all        318        481      0.946      0.914      0.959       0.59\n"
          ]
        },
        {
          "output_type": "stream",
          "name": "stderr",
          "text": [
            "\n"
          ]
        },
        {
          "output_type": "stream",
          "name": "stdout",
          "text": [
            "\n",
            "      Epoch    GPU_mem   box_loss   cls_loss   dfl_loss  Instances       Size\n"
          ]
        },
        {
          "output_type": "stream",
          "name": "stderr",
          "text": [
            "      17/55      14.3G      1.195     0.6793      1.095        156        640: 100%|██████████| 163/163 [08:03<00:00,  2.97s/it]\n",
            "                 Class     Images  Instances      Box(P          R      mAP50  mAP50-95): 100%|██████████| 2/2 [00:02<00:00,  1.47s/it]"
          ]
        },
        {
          "output_type": "stream",
          "name": "stdout",
          "text": [
            "                   all        318        481      0.927      0.927      0.963      0.585\n"
          ]
        },
        {
          "output_type": "stream",
          "name": "stderr",
          "text": [
            "\n"
          ]
        },
        {
          "output_type": "stream",
          "name": "stdout",
          "text": [
            "\n",
            "      Epoch    GPU_mem   box_loss   cls_loss   dfl_loss  Instances       Size\n"
          ]
        },
        {
          "output_type": "stream",
          "name": "stderr",
          "text": [
            "      18/55      14.2G       1.19      0.666      1.091        148        640: 100%|██████████| 163/163 [07:33<00:00,  2.79s/it]\n",
            "                 Class     Images  Instances      Box(P          R      mAP50  mAP50-95): 100%|██████████| 2/2 [00:03<00:00,  1.56s/it]"
          ]
        },
        {
          "output_type": "stream",
          "name": "stdout",
          "text": [
            "                   all        318        481      0.937      0.899      0.961      0.592\n"
          ]
        },
        {
          "output_type": "stream",
          "name": "stderr",
          "text": [
            "\n"
          ]
        },
        {
          "output_type": "stream",
          "name": "stdout",
          "text": [
            "\n",
            "      Epoch    GPU_mem   box_loss   cls_loss   dfl_loss  Instances       Size\n"
          ]
        },
        {
          "output_type": "stream",
          "name": "stderr",
          "text": [
            "      19/55      13.9G      1.191     0.6614      1.092        142        640: 100%|██████████| 163/163 [07:40<00:00,  2.82s/it]\n",
            "                 Class     Images  Instances      Box(P          R      mAP50  mAP50-95): 100%|██████████| 2/2 [00:02<00:00,  1.33s/it]"
          ]
        },
        {
          "output_type": "stream",
          "name": "stdout",
          "text": [
            "                   all        318        481      0.941      0.931      0.963      0.587\n"
          ]
        },
        {
          "output_type": "stream",
          "name": "stderr",
          "text": [
            "\n"
          ]
        },
        {
          "output_type": "stream",
          "name": "stdout",
          "text": [
            "\n",
            "      Epoch    GPU_mem   box_loss   cls_loss   dfl_loss  Instances       Size\n"
          ]
        },
        {
          "output_type": "stream",
          "name": "stderr",
          "text": [
            "      20/55      14.1G      1.182     0.6566      1.089        163        640: 100%|██████████| 163/163 [07:42<00:00,  2.83s/it]\n",
            "                 Class     Images  Instances      Box(P          R      mAP50  mAP50-95): 100%|██████████| 2/2 [00:02<00:00,  1.39s/it]"
          ]
        },
        {
          "output_type": "stream",
          "name": "stdout",
          "text": [
            "                   all        318        481       0.94      0.919      0.966      0.591\n"
          ]
        },
        {
          "output_type": "stream",
          "name": "stderr",
          "text": [
            "\n"
          ]
        },
        {
          "output_type": "stream",
          "name": "stdout",
          "text": [
            "\n",
            "      Epoch    GPU_mem   box_loss   cls_loss   dfl_loss  Instances       Size\n"
          ]
        },
        {
          "output_type": "stream",
          "name": "stderr",
          "text": [
            "      21/55      13.9G      1.179     0.6527      1.086        181        640: 100%|██████████| 163/163 [07:37<00:00,  2.81s/it]\n",
            "                 Class     Images  Instances      Box(P          R      mAP50  mAP50-95): 100%|██████████| 2/2 [00:03<00:00,  1.67s/it]"
          ]
        },
        {
          "output_type": "stream",
          "name": "stdout",
          "text": [
            "                   all        318        481      0.945        0.9       0.96      0.582\n"
          ]
        },
        {
          "output_type": "stream",
          "name": "stderr",
          "text": [
            "\n"
          ]
        },
        {
          "output_type": "stream",
          "name": "stdout",
          "text": [
            "\n",
            "      Epoch    GPU_mem   box_loss   cls_loss   dfl_loss  Instances       Size\n"
          ]
        },
        {
          "output_type": "stream",
          "name": "stderr",
          "text": [
            "      22/55      14.2G      1.168     0.6462      1.082        190        640: 100%|██████████| 163/163 [07:39<00:00,  2.82s/it]\n",
            "                 Class     Images  Instances      Box(P          R      mAP50  mAP50-95): 100%|██████████| 2/2 [00:03<00:00,  1.54s/it]"
          ]
        },
        {
          "output_type": "stream",
          "name": "stdout",
          "text": [
            "                   all        318        481      0.942      0.939      0.967       0.59\n"
          ]
        },
        {
          "output_type": "stream",
          "name": "stderr",
          "text": [
            "\n"
          ]
        },
        {
          "output_type": "stream",
          "name": "stdout",
          "text": [
            "\n",
            "      Epoch    GPU_mem   box_loss   cls_loss   dfl_loss  Instances       Size\n"
          ]
        },
        {
          "output_type": "stream",
          "name": "stderr",
          "text": [
            "      23/55        14G      1.157     0.6396      1.077        154        640: 100%|██████████| 163/163 [07:42<00:00,  2.83s/it]\n",
            "                 Class     Images  Instances      Box(P          R      mAP50  mAP50-95): 100%|██████████| 2/2 [00:02<00:00,  1.48s/it]"
          ]
        },
        {
          "output_type": "stream",
          "name": "stdout",
          "text": [
            "                   all        318        481      0.935      0.921      0.971      0.599\n"
          ]
        },
        {
          "output_type": "stream",
          "name": "stderr",
          "text": [
            "\n"
          ]
        },
        {
          "output_type": "stream",
          "name": "stdout",
          "text": [
            "\n",
            "      Epoch    GPU_mem   box_loss   cls_loss   dfl_loss  Instances       Size\n"
          ]
        },
        {
          "output_type": "stream",
          "name": "stderr",
          "text": [
            "      24/55      14.2G      1.155     0.6338      1.076        168        640: 100%|██████████| 163/163 [07:36<00:00,  2.80s/it]\n",
            "                 Class     Images  Instances      Box(P          R      mAP50  mAP50-95): 100%|██████████| 2/2 [00:04<00:00,  2.20s/it]"
          ]
        },
        {
          "output_type": "stream",
          "name": "stdout",
          "text": [
            "                   all        318        481      0.941      0.921      0.966      0.599\n"
          ]
        },
        {
          "output_type": "stream",
          "name": "stderr",
          "text": [
            "\n"
          ]
        },
        {
          "output_type": "stream",
          "name": "stdout",
          "text": [
            "\n",
            "      Epoch    GPU_mem   box_loss   cls_loss   dfl_loss  Instances       Size\n"
          ]
        },
        {
          "output_type": "stream",
          "name": "stderr",
          "text": [
            "      25/55      13.8G       1.15     0.6313      1.076        144        640: 100%|██████████| 163/163 [07:40<00:00,  2.83s/it]\n",
            "                 Class     Images  Instances      Box(P          R      mAP50  mAP50-95): 100%|██████████| 2/2 [00:04<00:00,  2.23s/it]"
          ]
        },
        {
          "output_type": "stream",
          "name": "stdout",
          "text": [
            "                   all        318        481       0.95      0.917      0.971      0.586\n"
          ]
        },
        {
          "output_type": "stream",
          "name": "stderr",
          "text": [
            "\n"
          ]
        },
        {
          "output_type": "stream",
          "name": "stdout",
          "text": [
            "\n",
            "      Epoch    GPU_mem   box_loss   cls_loss   dfl_loss  Instances       Size\n"
          ]
        },
        {
          "output_type": "stream",
          "name": "stderr",
          "text": [
            "      26/55      14.2G      1.141     0.6221      1.068        137        640: 100%|██████████| 163/163 [07:41<00:00,  2.83s/it]\n",
            "                 Class     Images  Instances      Box(P          R      mAP50  mAP50-95): 100%|██████████| 2/2 [00:04<00:00,  2.07s/it]"
          ]
        },
        {
          "output_type": "stream",
          "name": "stdout",
          "text": [
            "                   all        318        481       0.95      0.925       0.97      0.599\n"
          ]
        },
        {
          "output_type": "stream",
          "name": "stderr",
          "text": [
            "\n"
          ]
        },
        {
          "output_type": "stream",
          "name": "stdout",
          "text": [
            "\n",
            "      Epoch    GPU_mem   box_loss   cls_loss   dfl_loss  Instances       Size\n"
          ]
        },
        {
          "output_type": "stream",
          "name": "stderr",
          "text": [
            "      27/55      14.2G       1.14     0.6196      1.067        150        640: 100%|██████████| 163/163 [07:38<00:00,  2.81s/it]\n",
            "                 Class     Images  Instances      Box(P          R      mAP50  mAP50-95): 100%|██████████| 2/2 [00:03<00:00,  1.83s/it]"
          ]
        },
        {
          "output_type": "stream",
          "name": "stdout",
          "text": [
            "                   all        318        481      0.953       0.93      0.969      0.606\n"
          ]
        },
        {
          "output_type": "stream",
          "name": "stderr",
          "text": [
            "\n"
          ]
        },
        {
          "output_type": "stream",
          "name": "stdout",
          "text": [
            "\n",
            "      Epoch    GPU_mem   box_loss   cls_loss   dfl_loss  Instances       Size\n"
          ]
        },
        {
          "output_type": "stream",
          "name": "stderr",
          "text": [
            "      28/55      14.1G      1.135     0.6161      1.067        176        640: 100%|██████████| 163/163 [08:08<00:00,  2.99s/it]\n",
            "                 Class     Images  Instances      Box(P          R      mAP50  mAP50-95): 100%|██████████| 2/2 [00:03<00:00,  1.64s/it]"
          ]
        },
        {
          "output_type": "stream",
          "name": "stdout",
          "text": [
            "                   all        318        481      0.961      0.917      0.969      0.593\n"
          ]
        },
        {
          "output_type": "stream",
          "name": "stderr",
          "text": [
            "\n"
          ]
        },
        {
          "output_type": "stream",
          "name": "stdout",
          "text": [
            "\n",
            "      Epoch    GPU_mem   box_loss   cls_loss   dfl_loss  Instances       Size\n"
          ]
        },
        {
          "output_type": "stream",
          "name": "stderr",
          "text": [
            "      29/55      14.2G      1.124     0.6089      1.062        146        640: 100%|██████████| 163/163 [07:35<00:00,  2.79s/it]\n",
            "                 Class     Images  Instances      Box(P          R      mAP50  mAP50-95): 100%|██████████| 2/2 [00:02<00:00,  1.41s/it]"
          ]
        },
        {
          "output_type": "stream",
          "name": "stdout",
          "text": [
            "                   all        318        481      0.949      0.934      0.967      0.607\n"
          ]
        },
        {
          "output_type": "stream",
          "name": "stderr",
          "text": [
            "\n"
          ]
        },
        {
          "output_type": "stream",
          "name": "stdout",
          "text": [
            "\n",
            "      Epoch    GPU_mem   box_loss   cls_loss   dfl_loss  Instances       Size\n"
          ]
        },
        {
          "output_type": "stream",
          "name": "stderr",
          "text": [
            "      30/55      14.1G      1.122     0.6071       1.06        309        640:  39%|███▊      | 63/163 [02:52<04:02,  2.43s/it]"
          ]
        }
      ],
      "source": [
        "yolo = YOLO_Detection(model_path=MODEL_PATH)\n",
        "train = True\n",
        "resume = False\n",
        "\n",
        "if train:\n",
        "    yolo.train(resume=resume)"
      ]
    },
    {
      "cell_type": "code",
      "execution_count": null,
      "metadata": {
        "id": "bVL_h6Lw1h_t"
      },
      "outputs": [],
      "source": [
        "inference = Inference(yolo)\n",
        "inference.predict(video_src=0, score_threshold=0.6, iou_threshold=0.5, max_boxes=10, use_webcam=True)"
      ]
    }
  ],
  "metadata": {
    "kernelspec": {
      "display_name": "Python 3",
      "name": "python3"
    },
    "language_info": {
      "codemirror_mode": {
        "name": "ipython",
        "version": 3
      },
      "file_extension": ".py",
      "mimetype": "text/x-python",
      "name": "python",
      "nbconvert_exporter": "python",
      "pygments_lexer": "ipython3",
      "version": "3.12.5"
    },
    "colab": {
      "provenance": [],
      "gpuType": "T4"
    },
    "accelerator": "GPU"
  },
  "nbformat": 4,
  "nbformat_minor": 0
}